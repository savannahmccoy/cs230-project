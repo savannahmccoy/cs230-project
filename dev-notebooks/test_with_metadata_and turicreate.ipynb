{
 "cells": [
  {
   "cell_type": "code",
   "execution_count": null,
   "metadata": {},
   "outputs": [],
   "source": [
    "import os\n",
    "import json\n",
    "import gzip\n",
    "import pandas as pd\n",
    "from urllib.request import urlopen\n",
    "\n",
    "\n",
    "data = []\n",
    "with gzip.open('meta_Computers.json.gz') as f:\n",
    "    for l in f:\n",
    "        data.append(json.loads(l.strip()))\n",
    "    \n",
    "print(len(data))\n",
    "\n",
    "print(data[0])\n",
    "\n",
    "df = pd.DataFrame.from_dict(data)\n",
    "\n",
    "print(len(df))\n",
    "\n",
    "df3 = df.fillna('')\n",
    "df4 = df3[df3.title.str.contains('getTime')] # unformatted rows\n",
    "df5 = df3[~df3.title.str.contains('getTime')] # filter those unformatted rows\n",
    "print(len(df4))\n",
    "print(len(df5))\n",
    "\n",
    "df4.iloc[0]"
   ]
  },
  {
   "cell_type": "code",
   "execution_count": null,
   "metadata": {},
   "outputs": [],
   "source": [
    "import turicreate as tc\n",
    "actions = tc.SFrame.read_csv('./dataset/ml-20m/ratings.csv')\n",
    "items = tc.SFrame.read_csv('./dataset/ml-20m/movies.csv')\n",
    "training_data, validation_data = tc.recommender.util.random_split_by_user(actions, 'userId', 'movieId')\n",
    "model = tc.recommender.create(training_data, 'userId', 'movieId')\n",
    "results = model.recommend()"
   ]
  }
 ],
 "metadata": {
  "kernelspec": {
   "display_name": "Python 3",
   "language": "python",
   "name": "python3"
  },
  "language_info": {
   "codemirror_mode": {
    "name": "ipython",
    "version": 3
   },
   "file_extension": ".py",
   "mimetype": "text/x-python",
   "name": "python",
   "nbconvert_exporter": "python",
   "pygments_lexer": "ipython3",
   "version": "3.7.8"
  }
 },
 "nbformat": 4,
 "nbformat_minor": 4
}
