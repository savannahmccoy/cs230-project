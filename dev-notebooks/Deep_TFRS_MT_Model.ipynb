{
 "cells": [
  {
   "cell_type": "code",
   "execution_count": null,
   "metadata": {
    "id": "5GeOL5vk6t_W"
   },
   "outputs": [],
   "source": [
    "!pip install -q tensorflow-recommenders\n",
    "!pip install -q --upgrade tensorflow-datasets"
   ]
  },
  {
   "cell_type": "code",
   "execution_count": null,
   "metadata": {
    "id": "JrWbQqspjQCz"
   },
   "outputs": [],
   "source": [
    "from typing import Dict, Text\n",
    "\n",
    "import os\n",
    "import tempfile\n",
    "import numpy as np\n",
    "import csv\n",
    "import pandas as pd\n",
    "import tensorflow as tf\n",
    "import time\n",
    "import datetime\n",
    "import matplotlib.pyplot as plt\n",
    "%matplotlib inline\n",
    "\n",
    "import tensorflow_datasets as tfds\n",
    "import tensorflow_recommenders as tfrs"
   ]
  },
  {
   "cell_type": "code",
   "execution_count": null,
   "metadata": {
    "id": "OLFpgZygjdpa"
   },
   "outputs": [],
   "source": [
    "# read data from csv files\n",
    "reviews_df = pd.read_csv('100_real_data.csv')"
   ]
  },
  {
   "cell_type": "code",
   "execution_count": null,
   "metadata": {
    "id": "fWAySshi_EGS"
   },
   "outputs": [],
   "source": [
    "reviews_df['brand'] = reviews_df['brand'].astype(str)\n",
    "reviews_df['category2'] = reviews_df['category2'].astype(str)\n",
    "reviews_df['category3'] = reviews_df['category3'].astype(str)\n",
    "reviews_df['title'] = reviews_df['title'].astype(str)\n",
    "reviews_df['description'] = reviews_df['description'].astype(str)\n",
    "reviews_df['feature'] = reviews_df['feature'].astype(str)"
   ]
  },
  {
   "cell_type": "code",
   "execution_count": null,
   "metadata": {
    "id": "Zalv4Kkdjdr2"
   },
   "outputs": [],
   "source": [
    "# convert dataframe to tensor dataset format\n",
    "reviews = tf.data.Dataset.from_tensor_slices(dict(reviews_df))"
   ]
  },
  {
   "cell_type": "code",
   "execution_count": null,
   "metadata": {
    "colab": {
     "base_uri": "https://localhost:8080/"
    },
    "id": "O8tNAz3bjduK",
    "outputId": "55eca229-514f-4646-91e1-b577ec090087"
   },
   "outputs": [
    {
     "name": "stdout",
     "output_type": "stream",
     "text": [
      "{'description': <tf.Tensor: shape=(), dtype=string, numpy=b'Pushing the boundaries of what fans have come to expect from the record-setting entertainment franchise'>, 'title': <tf.Tensor: shape=(), dtype=string, numpy=b'Call of Duty: Black Ops II - Xbox 360'>, 'brand': <tf.Tensor: shape=(), dtype=string, numpy=b'by\\n    \\n    Activision'>, 'feature': <tf.Tensor: shape=(), dtype=string, numpy=b'Strike Force Levels: New to the Call of Duty Franchise'>, 'date': <tf.Tensor: shape=(), dtype=int64, numpy=0>, 'price': <tf.Tensor: shape=(), dtype=int64, numpy=0>, 'productID': <tf.Tensor: shape=(), dtype=string, numpy=b'B007XVTR3K'>, 'category2': <tf.Tensor: shape=(), dtype=string, numpy=b' Xbox 360'>, 'category3': <tf.Tensor: shape=(), dtype=string, numpy=b' Games'>, 'userID': <tf.Tensor: shape=(), dtype=string, numpy=b'A3QTRFAU7T5X9Y'>, 'vote': <tf.Tensor: shape=(), dtype=int64, numpy=449>, 'rating': <tf.Tensor: shape=(), dtype=int64, numpy=1>, 'verified': <tf.Tensor: shape=(), dtype=int64, numpy=0>}\n",
      "{'description': <tf.Tensor: shape=(), dtype=string, numpy=b'\"Sid Meiers Pirates! (Live the Life)\"'>, 'title': <tf.Tensor: shape=(), dtype=string, numpy=b\"Sid Meier's Pirates! (Live the Life)\">, 'brand': <tf.Tensor: shape=(), dtype=string, numpy=b'by\\n    \\n    2K'>, 'feature': <tf.Tensor: shape=(), dtype=string, numpy=b'The 1987 cross-genre classic returns with an all-new story'>, 'date': <tf.Tensor: shape=(), dtype=int64, numpy=0>, 'price': <tf.Tensor: shape=(), dtype=int64, numpy=0>, 'productID': <tf.Tensor: shape=(), dtype=string, numpy=b'B00029QR8I'>, 'category2': <tf.Tensor: shape=(), dtype=string, numpy=b' PC'>, 'category3': <tf.Tensor: shape=(), dtype=string, numpy=b' Games'>, 'userID': <tf.Tensor: shape=(), dtype=string, numpy=b'A20OMCGB73X5LV'>, 'vote': <tf.Tensor: shape=(), dtype=int64, numpy=374>, 'rating': <tf.Tensor: shape=(), dtype=int64, numpy=0>, 'verified': <tf.Tensor: shape=(), dtype=int64, numpy=0>}\n",
      "{'description': <tf.Tensor: shape=(), dtype=string, numpy=b'Help Luigi overcome ghastly ghosts'>, 'title': <tf.Tensor: shape=(), dtype=string, numpy=b\"Luigi's Mansion: Dark Moon\">, 'brand': <tf.Tensor: shape=(), dtype=string, numpy=b'by\\n    \\n    Nintendo'>, 'feature': <tf.Tensor: shape=(), dtype=string, numpy=b'\"Marios clumsy brother takes center stage in this spooky ghost-hunting and puzzle-solving adventure game\"'>, 'date': <tf.Tensor: shape=(), dtype=int64, numpy=0>, 'price': <tf.Tensor: shape=(), dtype=int64, numpy=0>, 'productID': <tf.Tensor: shape=(), dtype=string, numpy=b'B0053BCP40'>, 'category2': <tf.Tensor: shape=(), dtype=string, numpy=b' Kids & Family'>, 'category3': <tf.Tensor: shape=(), dtype=string, numpy=b' Nintendo 3DS'>, 'userID': <tf.Tensor: shape=(), dtype=string, numpy=b'A1EVV74UQYVKRY'>, 'vote': <tf.Tensor: shape=(), dtype=int64, numpy=449>, 'rating': <tf.Tensor: shape=(), dtype=int64, numpy=1>, 'verified': <tf.Tensor: shape=(), dtype=int64, numpy=0>}\n"
     ]
    }
   ],
   "source": [
    "# confirm conversion successful\n",
    "for row in reviews.take(3):\n",
    "  print(row)"
   ]
  },
  {
   "cell_type": "code",
   "execution_count": null,
   "metadata": {
    "id": "Z6ay3sfVjdwx"
   },
   "outputs": [],
   "source": [
    "# select the features to map\n",
    "reviews = reviews.map(lambda x: {\n",
    "    \"productID\": x[\"productID\"],      # embedding\n",
    "    \"userID\": x[\"userID\"],            # embedding\n",
    "    \"rating\": x[\"rating\"],            # target\n",
    "    \"vote\": x[\"vote\"],                # numeric\n",
    "    # \"title\": x[\"title\"],              # text\n",
    "    # \"brand\": x[\"brand\"],              # text\n",
    "    \"date\": x[\"date\"],                # numeric\n",
    "    \"price\": x[\"price\"],              # numeric\n",
    "    # \"description\": x[\"description\"],  # text\n",
    "    # \"feature\": x[\"feature\"],          # text\n",
    "    # \"category2\": x[\"category2\"],      # text\n",
    "    # \"category3\": x[\"category3\"],      # text\n",
    "    \"verified\": x[\"verified\"]         # numeric\n",
    "    })\n",
    "\n",
    "products = reviews.map(lambda x: {\n",
    "    \"productID\": x[\"productID\"]})"
   ]
  },
  {
   "cell_type": "code",
   "execution_count": null,
   "metadata": {
    "id": "fqW6wjXkLMWp"
   },
   "outputs": [],
   "source": [
    "# titles = reviews.map(lambda x: {\n",
    "#     \"title\": x[\"title\"]})\n",
    "\n",
    "# titles  = reviews.map(lambda x: str(x['title']))\n",
    "# brands = interactions.map(lambda x: str(x['brand']))\n",
    "# category = interactions.map(lambda x: str(x['product_category']))"
   ]
  },
  {
   "cell_type": "code",
   "execution_count": null,
   "metadata": {
    "id": "4eSBJESZjdzI"
   },
   "outputs": [],
   "source": [
    "start1 = time.time()\n",
    "votes = np.concatenate(list(reviews.map(lambda x: x[\"vote\"]).batch(100)))\n",
    "mx_v, mn_v = votes.max(), votes.min()\n",
    "vote_buckets = np.linspace(mn_v, mx_v, num=1000)\n",
    "\n",
    "prices = np.concatenate(list(reviews.map(lambda x: x[\"price\"]).batch(100)))\n",
    "mx_p, mn_p = prices.max(), prices.min()\n",
    "price_buckets = np.linspace(mn_p, mx_p, num=1000)\n",
    "\n",
    "verified = np.concatenate(list(reviews.map(lambda x: x[\"verified\"]).batch(100)))\n",
    "mx_v, mn_v = verified.max(), verified.min()\n",
    "verified_buckets = np.linspace(mn_v, mx_v, num=1000)\n",
    "\n",
    "dates = np.concatenate(list(reviews.map(lambda x: x[\"date\"]).batch(100)))\n",
    "mx_d, mn_d = dates.max(), dates.min()\n",
    "date_buckets = np.linspace(mn_d, mx_d, num=1000)\n",
    "\n",
    "u_pids = np.unique(np.concatenate(list(products.batch(1000).map(lambda x: x[\"productID\"]))))\n",
    "u_uids = np.unique(np.concatenate(list(reviews.batch(1000).map(lambda x: x[\"userID\"]))))\n",
    "\n",
    "# u_titles = np.unique(np.concatenate(list(reviews.batch(1000).map(lambda x: x[\"title\"]))))\n",
    "# u_brands = np.unique(np.concatenate(list(reviews.batch(1000).map(lambda x: x[\"brand\"]))))\n",
    "# u_descriptions = np.unique(np.concatenate(list(reviews.batch(1000).map(lambda x: x[\"description\"]))))\n",
    "# u_features = np.unique(np.concatenate(list(reviews.batch(1_000).map(lambda x: x[\"feature\"]))))\n",
    "# u_category2 = np.unique(np.concatenate(list(reviews.batch(1_000).map(lambda x: x[\"category2\"]))))\n",
    "# u_category3 = np.unique(np.concatenate(list(reviews.batch(1_000).map(lambda x: x[\"category3\"]))))"
   ]
  },
  {
   "cell_type": "code",
   "execution_count": null,
   "metadata": {
    "id": "aWhML2_Jjd1n"
   },
   "outputs": [],
   "source": [
    "# define a user model\n",
    "class UserModel(tf.keras.Model):\n",
    "\n",
    "  def __init__(self):\n",
    "    super().__init__()\n",
    "\n",
    "    max_tokens = 10_000\n",
    "    self.embedding_dimension = 32\n",
    "\n",
    "    self.user_embedding = tf.keras.Sequential([\n",
    "        tf.keras.layers.StringLookup(vocabulary=u_uids, mask_token=None),\n",
    "        tf.keras.layers.Embedding(len(u_uids) + 1, 64)])\n",
    "\n",
    "    self.vote_embedding = tf.keras.Sequential([\n",
    "        tf.keras.layers.Discretization(vote_buckets.tolist()),\n",
    "        tf.keras.layers.Embedding(len(vote_buckets) + 2, 32)])\n",
    "    self.normalized_vote = tf.keras.layers.Normalization(axis=None)\n",
    "    self.normalized_vote.adapt(votes)\n",
    "\n",
    "    self.verified_embedding = tf.keras.Sequential([\n",
    "        tf.keras.layers.Discretization(verified_buckets.tolist()),\n",
    "        tf.keras.layers.Embedding(len(verified_buckets) + 2, 32)])\n",
    "    self.normalized_verified = tf.keras.layers.Normalization(axis=None)\n",
    "    self.normalized_verified.adapt(verified)\n",
    "\n",
    "    self.date_embedding = tf.keras.Sequential([\n",
    "        tf.keras.layers.Discretization(date_buckets.tolist()),\n",
    "        tf.keras.layers.Embedding(len(date_buckets) + 2, 32)])\n",
    "    self.normalized_date = tf.keras.layers.Normalization(axis=None)\n",
    "    self.normalized_date.adapt(votes)\n",
    "\n",
    "    self.price_embedding = tf.keras.Sequential([\n",
    "        tf.keras.layers.Discretization(price_buckets.tolist()),\n",
    "        tf.keras.layers.Embedding(len(price_buckets) + 2, 32)])\n",
    "    self.normalized_price = tf.keras.layers.Normalization(axis=None)\n",
    "    self.normalized_price.adapt(prices)\n",
    "\n",
    "    # self.title_embedding = tf.keras.Sequential([\n",
    "    #           tf.keras.layers.experimental.preprocessing.StringLookup(\n",
    "    #             vocabulary=u_titles, mask_token=None),\n",
    "    #           tf.keras.layers.Embedding(len(u_titles) + 1, \n",
    "    #                                     self.embedding_dimension)\n",
    "    #         ])\n",
    "    \n",
    "\n",
    "    # self.title_vectorizer = tf.keras.layers.experimental.preprocessing.TextVectorization(\n",
    "    #                                                                                 max_tokens=max_tokens)\n",
    "    # self.title_text_embedding = tf.keras.Sequential([\n",
    "    #                           self.title_vectorizer,\n",
    "    #                           tf.keras.layers.Embedding(max_tokens, \n",
    "    #                                                     self.embedding_dimension, \n",
    "    #                                                     mask_zero=True),\n",
    "    #                           tf.keras.layers.GlobalAveragePooling1D(),\n",
    "    #                         ])\n",
    "    # self.title_vectorizer.adapt(titles)\n",
    "\n",
    "    \n",
    "\n",
    "    # self.brand_embedding = tf.keras.Sequential([\n",
    "    #           tf.keras.layers.experimental.preprocessing.StringLookup(\n",
    "    #             vocabulary=u_brands, mask_token=None),\n",
    "    #           tf.keras.layers.Embedding(len(u_brands) + 1, \n",
    "    #                                     self.embedding_dimension)\n",
    "    #         ])\n",
    "    \n",
    "    # self.brand_vectorizer = tf.keras.layers.experimental.preprocessing.TextVectorization(\n",
    "    #                                                                                 max_tokens=max_tokens)\n",
    "    # self.brand_text_embedding = tf.keras.Sequential([\n",
    "    #                           self.brand_vectorizer,\n",
    "    #                           tf.keras.layers.Embedding(max_tokens, \n",
    "    #                                                     self.embedding_dimension, \n",
    "    #                                                     mask_zero=True),\n",
    "    #                           tf.keras.layers.GlobalAveragePooling1D(),\n",
    "    #                         ])\n",
    "    \n",
    "\n",
    "    # self.description_embedding = tf.keras.Sequential([\n",
    "    #           tf.keras.layers.experimental.preprocessing.StringLookup(\n",
    "    #             vocabulary=u_descriptions, mask_token=None),\n",
    "    #           tf.keras.layers.Embedding(len(u_descriptions) + 1, \n",
    "    #                                     self.embedding_dimension)\n",
    "    #         ])\n",
    "    \n",
    "    # self.description_vectorizer = tf.keras.layers.experimental.preprocessing.TextVectorization(\n",
    "    #                                                                                 max_tokens=max_tokens)\n",
    "    # self.description_text_embedding = tf.keras.Sequential([\n",
    "    #                           self.description_vectorizer,\n",
    "    #                           tf.keras.layers.Embedding(max_tokens, \n",
    "    #                                                     self.embedding_dimension, \n",
    "    #                                                     mask_zero=True),\n",
    "    #                           tf.keras.layers.GlobalAveragePooling1D(),\n",
    "    #                         ])\n",
    "  \n",
    "\n",
    "    # self.feature_embedding = tf.keras.Sequential([\n",
    "    #           tf.keras.layers.experimental.preprocessing.StringLookup(\n",
    "    #             vocabulary=u_features, mask_token=None),\n",
    "    #           tf.keras.layers.Embedding(len(u_features) + 1, \n",
    "    #                                     self.embedding_dimension)\n",
    "    #         ])\n",
    "    \n",
    "    # self.feature_vectorizer = tf.keras.layers.experimental.preprocessing.TextVectorization(\n",
    "    #                                                                                 max_tokens=max_tokens)\n",
    "    # self.feature_text_embedding = tf.keras.Sequential([\n",
    "    #                           self.feature_vectorizer,\n",
    "    #                           tf.keras.layers.Embedding(max_tokens, \n",
    "    #                                                     self.embedding_dimension, \n",
    "    #                                                     mask_zero=True),\n",
    "    #                           tf.keras.layers.GlobalAveragePooling1D(),\n",
    "    #                         ])\n",
    "    \n",
    "\n",
    "    # self.category2_embedding = tf.keras.Sequential([\n",
    "    #           tf.keras.layers.experimental.preprocessing.StringLookup(\n",
    "    #             vocabulary=u_category2, mask_token=None),\n",
    "    #           tf.keras.layers.Embedding(len(u_category2) + 1, \n",
    "    #                                     self.embedding_dimension)\n",
    "    #         ])\n",
    "    \n",
    "    # self.category2_vectorizer = tf.keras.layers.experimental.preprocessing.TextVectorization(\n",
    "    #                                                                                 max_tokens=max_tokens)\n",
    "    # self.category2_text_embedding = tf.keras.Sequential([\n",
    "    #                           self.category2_vectorizer,\n",
    "    #                           tf.keras.layers.Embedding(max_tokens, \n",
    "    #                                                     self.embedding_dimension, \n",
    "    #                                                     mask_zero=True),\n",
    "    #                           tf.keras.layers.GlobalAveragePooling1D(),\n",
    "    #                         ])\n",
    "    \n",
    "\n",
    "    # self.category3_embedding = tf.keras.Sequential([\n",
    "    #           tf.keras.layers.experimental.preprocessing.StringLookup(\n",
    "    #             vocabulary=u_category3, mask_token=None),\n",
    "    #           tf.keras.layers.Embedding(len(u_category3) + 1, \n",
    "    #                                     self.embedding_dimension)\n",
    "    #         ])\n",
    "    \n",
    "    # self.category3_vectorizer = tf.keras.layers.experimental.preprocessing.TextVectorization(\n",
    "    #                                                                                 max_tokens=max_tokens)\n",
    "    # self.category3_text_embedding = tf.keras.Sequential([\n",
    "    #                           self.category3_vectorizer,\n",
    "    #                           tf.keras.layers.Embedding(max_tokens, \n",
    "    #                                                     self.embedding_dimension, \n",
    "    #                                                     mask_zero=True),\n",
    "    #                           tf.keras.layers.GlobalAveragePooling1D(),\n",
    "    #                         ])\n",
    "    \n",
    "\n",
    "\n",
    "\n",
    "\n",
    "  def call(self, inputs):\n",
    "    return tf.concat([\n",
    "        self.user_embedding(inputs[\"userID\"]),\n",
    "        self.vote_embedding(inputs[\"vote\"]),\n",
    "        tf.reshape(self.normalized_vote(inputs[\"vote\"]), (-1, 1)),\n",
    "        self.verified_embedding(inputs[\"verified\"]),\n",
    "        tf.reshape(self.normalized_verified(inputs[\"verified\"]), (-1, 1)),\n",
    "        self.date_embedding(inputs[\"date\"]),\n",
    "        tf.reshape(self.normalized_verified(inputs[\"date\"]), (-1, 1)),\n",
    "        self.price_embedding(inputs[\"price\"]),\n",
    "        tf.reshape(self.normalized_vote(inputs[\"price\"]), (-1, 1)),\n",
    "        # self.title_embedding(inputs[\"title\"]),\n",
    "        # self.title_text_embedding(inputs[\"title\"]),\n",
    "        # self.brand_embedding(inputs[\"brand\"]),\n",
    "        # self.brand_text_embedding(inputs[\"brand\"]),\n",
    "        # self.description_embedding(inputs[\"description\"]),\n",
    "        # self.description_text_embedding(inputs[\"description\"]),\n",
    "        # self.feature_embedding(inputs[\"feature\"]),\n",
    "        # self.feature_text_embedding(inputs[\"feature\"]),\n",
    "        # self.category2_embedding(inputs[\"category2\"]),\n",
    "        # self.category2_text_embedding(inputs[\"category2\"]),\n",
    "        # self.category3_embedding(inputs[\"category3\"]),\n",
    "        # self.category3_text_embedding(inputs[\"category3\"]),\n",
    "    ], axis=1)"
   ]
  },
  {
   "cell_type": "code",
   "execution_count": null,
   "metadata": {
    "id": "XBO7YmmLjd3y"
   },
   "outputs": [],
   "source": [
    "class ProductModel(tf.keras.Model):\n",
    "  \n",
    "  def __init__(self):\n",
    "    super().__init__()\n",
    "\n",
    "    self.product_embedding = tf.keras.Sequential([\n",
    "                  tf.keras.layers.experimental.preprocessing.StringLookup(\n",
    "                      vocabulary=u_pids, mask_token=None),\n",
    "                  tf.keras.layers.Embedding(len(u_pids) + 1, 64)])\n",
    "    \n",
    "  \n",
    "  def call(self, inputs):\n",
    "    print(inputs)\n",
    "    return tf.concat([ \n",
    "        self.product_embedding(inputs[\"productID\"])\n",
    "    ], axis=1)"
   ]
  },
  {
   "cell_type": "code",
   "execution_count": null,
   "metadata": {
    "id": "phnPoJNzjd5p"
   },
   "outputs": [],
   "source": [
    "# define a recommender model\n",
    "class ProductRecommendationModel(tfrs.models.Model):\n",
    "\n",
    "  def __init__(self, rating_weight, retrieval_weight):\n",
    "    super().__init__()\n",
    "\n",
    "    # user and product representations\n",
    "    self.user_model = tf.keras.Sequential([\n",
    "                      UserModel(),\n",
    "                      tf.keras.layers.Dense(64)])\n",
    "    \n",
    "    ## candidate model is the item model\n",
    "    self.product_model = tf.keras.Sequential([\n",
    "                          ProductModel(),\n",
    "                          tf.keras.layers.Dense(64)])\n",
    "\n",
    "        \n",
    "    # model using user and product embeddings to predict ratings\n",
    "    self.rating_model = tf.keras.Sequential([\n",
    "        tf.keras.layers.Dense(256, activation=\"relu\"),\n",
    "        tf.keras.layers.Dense(128, activation=\"relu\"),\n",
    "        tf.keras.layers.Dense(1),\n",
    "    ])\n",
    "\n",
    "    # loss weights\n",
    "    self.rating_weight = rating_weight\n",
    "    self.retrieval_weight = retrieval_weight\n",
    "\n",
    "    # retrieval tasks: factorization loss and RMSE\n",
    "    self.rating_task: tf.keras.layers.Layer = tfrs.tasks.Ranking(\n",
    "        loss=tf.keras.losses.MeanSquaredError(),\n",
    "        metrics=[tf.keras.metrics.RootMeanSquaredError()],\n",
    "    )\n",
    "    self.retrieval_task: tf.keras.layers.Layer = tfrs.tasks.Retrieval(\n",
    "        metrics=tfrs.metrics.FactorizedTopK(\n",
    "            candidates=products.batch(128).map(self.product_model)\n",
    "        )\n",
    "    )\n",
    "\n",
    "\n",
    "\n",
    "  def compute_loss(self, features, training=False):\n",
    "    # define how the loss is computed\n",
    "    ratings = features.pop(\"rating\")\n",
    "\n",
    "    user_embeddings = self.user_model({\n",
    "        \"userID\": features[\"userID\"],\n",
    "        \"vote\": features[\"vote\"],\n",
    "        \"verified\": features[\"verified\"],\n",
    "        \"date\": features[\"date\"],\n",
    "        \"price\": features[\"price\"], \n",
    "        # \"title\": features[\"title\"], \n",
    "        # \"description\": features[\"description\"], \n",
    "        # \"brand\": features[\"brand\"], \n",
    "        # \"feature\": features[\"feature\"], \n",
    "        # \"category2\": features[\"category2\"],  \n",
    "        # \"category3\": features[\"category3\"]\n",
    "    })\n",
    "    print(features)\n",
    "\n",
    "    product_embeddings = self.product_model({\n",
    "        \"productID\": features[\"productID\"],  \n",
    "    })\n",
    "    \n",
    "    rating_predictions = self.rating_model(\n",
    "        tf.concat([user_embeddings, product_embeddings], axis=1)\n",
    "    )  \n",
    "\n",
    "    # compute loss for each task\n",
    "    rating_loss = self.rating_task(labels=ratings, predictions=rating_predictions)\n",
    "    retrieval_loss = self.retrieval_task(user_embeddings, product_embeddings)\n",
    "\n",
    "    # combine them using the loss weights\n",
    "    return (self.rating_weight * rating_loss + self.retrieval_weight * retrieval_loss)\n"
   ]
  },
  {
   "cell_type": "code",
   "execution_count": null,
   "metadata": {
    "colab": {
     "base_uri": "https://localhost:8080/"
    },
    "id": "Vk2yOuQZjd90",
    "outputId": "036a3ad3-7a55-4ece-f94d-779986263792"
   },
   "outputs": [
    {
     "name": "stdout",
     "output_type": "stream",
     "text": [
      "WARNING:tensorflow:Layers in a Sequential model should only have a single input tensor, but we receive a <class 'dict'> input: {'productID': <tf.Tensor 'args_0:0' shape=(None,) dtype=string>}\n",
      "Consider rewriting this model with the Functional API.\n",
      "{'productID': <tf.Tensor 'args_0:0' shape=(None,) dtype=string>}\n",
      "Epoch 1/10\n",
      "WARNING:tensorflow:Layers in a Sequential model should only have a single input tensor, but we receive a <class 'dict'> input: {'userID': <tf.Tensor 'IteratorGetNext:4' shape=(None,) dtype=string>, 'vote': <tf.Tensor 'IteratorGetNext:6' shape=(None,) dtype=int64>, 'verified': <tf.Tensor 'IteratorGetNext:5' shape=(None,) dtype=int64>, 'date': <tf.Tensor 'IteratorGetNext:0' shape=(None,) dtype=int64>, 'price': <tf.Tensor 'IteratorGetNext:1' shape=(None,) dtype=int64>}\n",
      "Consider rewriting this model with the Functional API.\n",
      "{'productID': <tf.Tensor 'IteratorGetNext:2' shape=(None,) dtype=string>, 'userID': <tf.Tensor 'IteratorGetNext:4' shape=(None,) dtype=string>, 'vote': <tf.Tensor 'IteratorGetNext:6' shape=(None,) dtype=int64>, 'date': <tf.Tensor 'IteratorGetNext:0' shape=(None,) dtype=int64>, 'price': <tf.Tensor 'IteratorGetNext:1' shape=(None,) dtype=int64>, 'verified': <tf.Tensor 'IteratorGetNext:5' shape=(None,) dtype=int64>}\n",
      "WARNING:tensorflow:Layers in a Sequential model should only have a single input tensor, but we receive a <class 'dict'> input: {'productID': <tf.Tensor 'IteratorGetNext:2' shape=(None,) dtype=string>}\n",
      "Consider rewriting this model with the Functional API.\n",
      "{'productID': <tf.Tensor 'IteratorGetNext:2' shape=(None,) dtype=string>}\n",
      "WARNING:tensorflow:Layers in a Sequential model should only have a single input tensor, but we receive a <class 'dict'> input: {'userID': <tf.Tensor 'IteratorGetNext:4' shape=(None,) dtype=string>, 'vote': <tf.Tensor 'IteratorGetNext:6' shape=(None,) dtype=int64>, 'verified': <tf.Tensor 'IteratorGetNext:5' shape=(None,) dtype=int64>, 'date': <tf.Tensor 'IteratorGetNext:0' shape=(None,) dtype=int64>, 'price': <tf.Tensor 'IteratorGetNext:1' shape=(None,) dtype=int64>}\n",
      "Consider rewriting this model with the Functional API.\n",
      "{'productID': <tf.Tensor 'IteratorGetNext:2' shape=(None,) dtype=string>, 'userID': <tf.Tensor 'IteratorGetNext:4' shape=(None,) dtype=string>, 'vote': <tf.Tensor 'IteratorGetNext:6' shape=(None,) dtype=int64>, 'date': <tf.Tensor 'IteratorGetNext:0' shape=(None,) dtype=int64>, 'price': <tf.Tensor 'IteratorGetNext:1' shape=(None,) dtype=int64>, 'verified': <tf.Tensor 'IteratorGetNext:5' shape=(None,) dtype=int64>}\n",
      "WARNING:tensorflow:Layers in a Sequential model should only have a single input tensor, but we receive a <class 'dict'> input: {'productID': <tf.Tensor 'IteratorGetNext:2' shape=(None,) dtype=string>}\n",
      "Consider rewriting this model with the Functional API.\n",
      "{'productID': <tf.Tensor 'IteratorGetNext:2' shape=(None,) dtype=string>}\n",
      "40/40 [==============================] - 697s 17s/step - root_mean_squared_error: 2695.7085 - factorized_top_k/top_1_categorical_accuracy: 0.0098 - factorized_top_k/top_5_categorical_accuracy: 0.0101 - factorized_top_k/top_10_categorical_accuracy: 0.0106 - factorized_top_k/top_50_categorical_accuracy: 0.0147 - factorized_top_k/top_100_categorical_accuracy: 0.0175 - loss: 3588157.8079 - regularization_loss: 0.0000e+00 - total_loss: 3588157.8079\n",
      "Epoch 2/10\n",
      "40/40 [==============================] - 724s 18s/step - root_mean_squared_error: 1.2924 - factorized_top_k/top_1_categorical_accuracy: 0.0148 - factorized_top_k/top_5_categorical_accuracy: 0.0177 - factorized_top_k/top_10_categorical_accuracy: 0.0195 - factorized_top_k/top_50_categorical_accuracy: 0.0268 - factorized_top_k/top_100_categorical_accuracy: 0.0330 - loss: 68553.3869 - regularization_loss: 0.0000e+00 - total_loss: 68553.3869\n",
      "Epoch 3/10\n",
      "40/40 [==============================] - 726s 18s/step - root_mean_squared_error: 1.2911 - factorized_top_k/top_1_categorical_accuracy: 0.0166 - factorized_top_k/top_5_categorical_accuracy: 0.0201 - factorized_top_k/top_10_categorical_accuracy: 0.0232 - factorized_top_k/top_50_categorical_accuracy: 0.0386 - factorized_top_k/top_100_categorical_accuracy: 0.0510 - loss: 51485.3097 - regularization_loss: 0.0000e+00 - total_loss: 51485.3097\n",
      "Epoch 4/10\n",
      "40/40 [==============================] - 734s 18s/step - root_mean_squared_error: 1.1513 - factorized_top_k/top_1_categorical_accuracy: 0.0218 - factorized_top_k/top_5_categorical_accuracy: 0.0298 - factorized_top_k/top_10_categorical_accuracy: 0.0384 - factorized_top_k/top_50_categorical_accuracy: 0.0770 - factorized_top_k/top_100_categorical_accuracy: 0.1067 - loss: 43276.0268 - regularization_loss: 0.0000e+00 - total_loss: 43276.0268\n",
      "Epoch 5/10\n",
      "40/40 [==============================] - 737s 18s/step - root_mean_squared_error: 1.1027 - factorized_top_k/top_1_categorical_accuracy: 0.0418 - factorized_top_k/top_5_categorical_accuracy: 0.0564 - factorized_top_k/top_10_categorical_accuracy: 0.0726 - factorized_top_k/top_50_categorical_accuracy: 0.1525 - factorized_top_k/top_100_categorical_accuracy: 0.2124 - loss: 34246.6811 - regularization_loss: 0.0000e+00 - total_loss: 34246.6811\n",
      "Epoch 6/10\n",
      "40/40 [==============================] - 741s 18s/step - root_mean_squared_error: 1.0108 - factorized_top_k/top_1_categorical_accuracy: 0.0731 - factorized_top_k/top_5_categorical_accuracy: 0.0990 - factorized_top_k/top_10_categorical_accuracy: 0.1272 - factorized_top_k/top_50_categorical_accuracy: 0.2583 - factorized_top_k/top_100_categorical_accuracy: 0.3406 - loss: 31598.3140 - regularization_loss: 0.0000e+00 - total_loss: 31598.3140\n",
      "Epoch 7/10\n",
      "40/40 [==============================] - 746s 19s/step - root_mean_squared_error: 1.0227 - factorized_top_k/top_1_categorical_accuracy: 0.1221 - factorized_top_k/top_5_categorical_accuracy: 0.1647 - factorized_top_k/top_10_categorical_accuracy: 0.2026 - factorized_top_k/top_50_categorical_accuracy: 0.3677 - factorized_top_k/top_100_categorical_accuracy: 0.4501 - loss: 26333.7639 - regularization_loss: 0.0000e+00 - total_loss: 26333.7639\n",
      "Epoch 8/10\n",
      "40/40 [==============================] - 746s 19s/step - root_mean_squared_error: 1.0114 - factorized_top_k/top_1_categorical_accuracy: 0.1639 - factorized_top_k/top_5_categorical_accuracy: 0.2141 - factorized_top_k/top_10_categorical_accuracy: 0.2609 - factorized_top_k/top_50_categorical_accuracy: 0.4390 - factorized_top_k/top_100_categorical_accuracy: 0.5216 - loss: 23365.5109 - regularization_loss: 0.0000e+00 - total_loss: 23365.5109\n",
      "Epoch 9/10\n",
      "40/40 [==============================] - 747s 19s/step - root_mean_squared_error: 1.0233 - factorized_top_k/top_1_categorical_accuracy: 0.2037 - factorized_top_k/top_5_categorical_accuracy: 0.2578 - factorized_top_k/top_10_categorical_accuracy: 0.3100 - factorized_top_k/top_50_categorical_accuracy: 0.4955 - factorized_top_k/top_100_categorical_accuracy: 0.5813 - loss: 21235.2925 - regularization_loss: 0.0000e+00 - total_loss: 21235.2925\n",
      "Epoch 10/10\n",
      "40/40 [==============================] - 743s 19s/step - root_mean_squared_error: 1.0637 - factorized_top_k/top_1_categorical_accuracy: 0.2379 - factorized_top_k/top_5_categorical_accuracy: 0.2953 - factorized_top_k/top_10_categorical_accuracy: 0.3529 - factorized_top_k/top_50_categorical_accuracy: 0.5443 - factorized_top_k/top_100_categorical_accuracy: 0.6307 - loss: 19084.1976 - regularization_loss: 0.0000e+00 - total_loss: 19084.1976\n",
      "TIME TO TRAIN MODEL: 2:05:20.060879\n",
      "WARNING:tensorflow:Layers in a Sequential model should only have a single input tensor, but we receive a <class 'dict'> input: {'userID': <tf.Tensor 'IteratorGetNext:4' shape=(None,) dtype=string>, 'vote': <tf.Tensor 'IteratorGetNext:6' shape=(None,) dtype=int64>, 'verified': <tf.Tensor 'IteratorGetNext:5' shape=(None,) dtype=int64>, 'date': <tf.Tensor 'IteratorGetNext:0' shape=(None,) dtype=int64>, 'price': <tf.Tensor 'IteratorGetNext:1' shape=(None,) dtype=int64>}\n",
      "Consider rewriting this model with the Functional API.\n",
      "{'productID': <tf.Tensor 'IteratorGetNext:2' shape=(None,) dtype=string>, 'userID': <tf.Tensor 'IteratorGetNext:4' shape=(None,) dtype=string>, 'vote': <tf.Tensor 'IteratorGetNext:6' shape=(None,) dtype=int64>, 'date': <tf.Tensor 'IteratorGetNext:0' shape=(None,) dtype=int64>, 'price': <tf.Tensor 'IteratorGetNext:1' shape=(None,) dtype=int64>, 'verified': <tf.Tensor 'IteratorGetNext:5' shape=(None,) dtype=int64>}\n",
      "WARNING:tensorflow:Layers in a Sequential model should only have a single input tensor, but we receive a <class 'dict'> input: {'productID': <tf.Tensor 'IteratorGetNext:2' shape=(None,) dtype=string>}\n",
      "Consider rewriting this model with the Functional API.\n",
      "{'productID': <tf.Tensor 'IteratorGetNext:2' shape=(None,) dtype=string>}\n",
      "5/5 [==============================] - 174s 34s/step - root_mean_squared_error: 1.7953 - factorized_top_k/top_1_categorical_accuracy: 0.0444 - factorized_top_k/top_5_categorical_accuracy: 0.0609 - factorized_top_k/top_10_categorical_accuracy: 0.0770 - factorized_top_k/top_50_categorical_accuracy: 0.1258 - factorized_top_k/top_100_categorical_accuracy: 0.1481 - loss: 57321.2650 - regularization_loss: 0.0000e+00 - total_loss: 57321.2650\n",
      "TIME TO EVALUATE MODEL: 0:03:22.436469\n",
      "\n",
      "\n",
      "\n",
      " ----------------------------------------------------- \n",
      "\n",
      "TOTAL TIME TO TRAIN MODEL: 2:10:35.441494\n"
     ]
    }
   ],
   "source": [
    "# create retrieval and ranking model\n",
    "model = ProductRecommendationModel(rating_weight=0.5, retrieval_weight=0.5)\n",
    "model.compile(optimizer=tf.keras.optimizers.Adagrad(0.1))\n",
    "\n",
    "# split the data into a training set and a testing set.\n",
    "tf.random.set_seed(42)\n",
    "shuffled = reviews.shuffle(100_000, seed=42, reshuffle_each_iteration=False)\n",
    "\n",
    "train = shuffled.take(80_000)\n",
    "test = shuffled.skip(80_000).take(20_000)\n",
    "\n",
    "cached_train = train.shuffle(100_000).batch(2048)\n",
    "cached_test = test.batch(4096).cache()\n",
    "\n",
    "# train model\n",
    "start = time.time()\n",
    "history = model.fit(cached_train, epochs=10)\n",
    "end = time.time()\n",
    "print(\"TIME TO TRAIN MODEL:\", str(datetime.timedelta(seconds=end-start)))\n",
    "\n",
    "# print result metrics\n",
    "start = time.time()\n",
    "model.evaluate(cached_test, return_dict=True)\n",
    "end = time.time()\n",
    "print(\"TIME TO EVALUATE MODEL:\", str(datetime.timedelta(seconds=end-start)))\n",
    "end1 = time.time()\n",
    "print(\"\\n\\n\\n ----------------------------------------------------- \\n\\nTOTAL TIME TO TRAIN MODEL:\", str(datetime.timedelta(seconds=end1-start1)))"
   ]
  },
  {
   "cell_type": "code",
   "execution_count": null,
   "metadata": {
    "id": "aAEUA-nTjd_6"
   },
   "outputs": [],
   "source": [
    "# tf.keras.utils.plot_model(model, show_shapes=True, rankdir=\"LR\")"
   ]
  },
  {
   "cell_type": "code",
   "execution_count": null,
   "metadata": {
    "colab": {
     "base_uri": "https://localhost:8080/",
     "height": 313
    },
    "id": "9FPG_Ynk_0M_",
    "outputId": "675e5c64-76af-4c37-9084-16411645ce44"
   },
   "outputs": [
    {
     "data": {
      "text/plain": [
       "<matplotlib.legend.Legend at 0x7f4d9e739950>"
      ]
     },
     "execution_count": 15,
     "metadata": {},
     "output_type": "execute_result"
    },
    {
     "data": {
      "image/png": "[encoded data removed]",
      "text/plain": [
       "<Figure size 432x288 with 1 Axes>"
      ]
     },
     "metadata": {
      "needs_background": "light"
     },
     "output_type": "display_data"
    }
   ],
   "source": [
    "# plot train accuracy over epochs\n",
    "epochs = [i for i in range(10)]\n",
    "plt.plot(epochs, history.history[\"factorized_top_k/top_10_categorical_accuracy\"], label=\"accuracy\")\n",
    "plt.title(\"Accuracy vs epoch\")\n",
    "plt.xlabel(\"epoch\")\n",
    "plt.ylabel(\"Top-100 accuracy\");\n",
    "plt.legend()"
   ]
  },
  {
   "cell_type": "code",
   "execution_count": null,
   "metadata": {
    "id": "W8O-_0HbV46_"
   },
   "outputs": [],
   "source": []
  }
 ],
 "metadata": {
  "colab": {
   "name": "Deep TFRS MT Model.ipynb",
   "provenance": []
  },
  "kernelspec": {
   "display_name": "Python 3",
   "language": "python",
   "name": "python3"
  },
  "language_info": {
   "codemirror_mode": {
    "name": "ipython",
    "version": 3
   },
   "file_extension": ".py",
   "mimetype": "text/x-python",
   "name": "python",
   "nbconvert_exporter": "python",
   "pygments_lexer": "ipython3",
   "version": "3.7.8"
  }
 },
 "nbformat": 4,
 "nbformat_minor": 1
}
