{
 "cells": [
  {
   "cell_type": "code",
   "execution_count": 1,
   "metadata": {},
   "outputs": [],
   "source": [
    "import turicreate as tc"
   ]
  },
  {
   "cell_type": "code",
   "execution_count": 2,
   "metadata": {},
   "outputs": [
    {
     "data": {
      "text/html": [
       "<pre>Finished parsing file /Users/savannahmccoy/Documents/School/dl/project/code/ratings.csv</pre>"
      ],
      "text/plain": [
       "Finished parsing file /Users/savannahmccoy/Documents/School/dl/project/code/ratings.csv"
      ]
     },
     "metadata": {},
     "output_type": "display_data"
    },
    {
     "data": {
      "text/html": [
       "<pre>Parsing completed. Parsed 100 lines in 0.277555 secs.</pre>"
      ],
      "text/plain": [
       "Parsing completed. Parsed 100 lines in 0.277555 secs."
      ]
     },
     "metadata": {},
     "output_type": "display_data"
    },
    {
     "name": "stdout",
     "output_type": "stream",
     "text": [
      "------------------------------------------------------\n",
      "Inferred types from first 100 line(s) of file as \n",
      "column_type_hints=[int,int,float,int]\n",
      "If parsing fails due to incorrect types, you can correct\n",
      "the inferred type list above and pass it to read_csv in\n",
      "the column_type_hints argument\n",
      "------------------------------------------------------\n"
     ]
    },
    {
     "data": {
      "text/html": [
       "<pre>Read 2042753 lines. Lines per second: 3.37032e+06</pre>"
      ],
      "text/plain": [
       "Read 2042753 lines. Lines per second: 3.37032e+06"
      ]
     },
     "metadata": {},
     "output_type": "display_data"
    },
    {
     "data": {
      "text/html": [
       "<pre>Finished parsing file /Users/savannahmccoy/Documents/School/dl/project/code/ratings.csv</pre>"
      ],
      "text/plain": [
       "Finished parsing file /Users/savannahmccoy/Documents/School/dl/project/code/ratings.csv"
      ]
     },
     "metadata": {},
     "output_type": "display_data"
    },
    {
     "data": {
      "text/html": [
       "<pre>Parsing completed. Parsed 20000263 lines in 3.64577 secs.</pre>"
      ],
      "text/plain": [
       "Parsing completed. Parsed 20000263 lines in 3.64577 secs."
      ]
     },
     "metadata": {},
     "output_type": "display_data"
    },
    {
     "data": {
      "text/html": [
       "<pre>Finished parsing file /Users/savannahmccoy/Documents/School/dl/project/code/movies.csv</pre>"
      ],
      "text/plain": [
       "Finished parsing file /Users/savannahmccoy/Documents/School/dl/project/code/movies.csv"
      ]
     },
     "metadata": {},
     "output_type": "display_data"
    },
    {
     "data": {
      "text/html": [
       "<pre>Parsing completed. Parsed 100 lines in 0.016642 secs.</pre>"
      ],
      "text/plain": [
       "Parsing completed. Parsed 100 lines in 0.016642 secs."
      ]
     },
     "metadata": {},
     "output_type": "display_data"
    },
    {
     "name": "stdout",
     "output_type": "stream",
     "text": [
      "------------------------------------------------------\n",
      "Inferred types from first 100 line(s) of file as \n",
      "column_type_hints=[int,str,str]\n",
      "If parsing fails due to incorrect types, you can correct\n",
      "the inferred type list above and pass it to read_csv in\n",
      "the column_type_hints argument\n",
      "------------------------------------------------------\n"
     ]
    },
    {
     "data": {
      "text/html": [
       "<pre>Finished parsing file /Users/savannahmccoy/Documents/School/dl/project/code/movies.csv</pre>"
      ],
      "text/plain": [
       "Finished parsing file /Users/savannahmccoy/Documents/School/dl/project/code/movies.csv"
      ]
     },
     "metadata": {},
     "output_type": "display_data"
    },
    {
     "data": {
      "text/html": [
       "<pre>Parsing completed. Parsed 27278 lines in 0.022665 secs.</pre>"
      ],
      "text/plain": [
       "Parsing completed. Parsed 27278 lines in 0.022665 secs."
      ]
     },
     "metadata": {},
     "output_type": "display_data"
    }
   ],
   "source": [
    "actions = tc.SFrame.read_csv('ratings.csv')\n",
    "items = tc.SFrame.read_csv('movies.csv')"
   ]
  },
  {
   "cell_type": "code",
   "execution_count": 9,
   "metadata": {},
   "outputs": [
    {
     "data": {
      "text/html": [
       "<pre>Warning: Ignoring columns rating, timestamp;</pre>"
      ],
      "text/plain": [
       "Warning: Ignoring columns rating, timestamp;"
      ]
     },
     "metadata": {},
     "output_type": "display_data"
    },
    {
     "data": {
      "text/html": [
       "<pre> To use one of these as a rating column, specify the column name to be used as target</pre>"
      ],
      "text/plain": [
       " To use one of these as a rating column, specify the column name to be used as target"
      ]
     },
     "metadata": {},
     "output_type": "display_data"
    },
    {
     "data": {
      "text/html": [
       "<pre>    and use a method that allows the use of a target.</pre>"
      ],
      "text/plain": [
       "    and use a method that allows the use of a target."
      ]
     },
     "metadata": {},
     "output_type": "display_data"
    },
    {
     "data": {
      "text/html": [
       "<pre>Preparing data set.</pre>"
      ],
      "text/plain": [
       "Preparing data set."
      ]
     },
     "metadata": {},
     "output_type": "display_data"
    },
    {
     "data": {
      "text/html": [
       "<pre>    Data has 19970212 observations with 138493 users and 26657 items.</pre>"
      ],
      "text/plain": [
       "    Data has 19970212 observations with 138493 users and 26657 items."
      ]
     },
     "metadata": {},
     "output_type": "display_data"
    },
    {
     "data": {
      "text/html": [
       "<pre>    Data prepared in: 4.08884s</pre>"
      ],
      "text/plain": [
       "    Data prepared in: 4.08884s"
      ]
     },
     "metadata": {},
     "output_type": "display_data"
    },
    {
     "data": {
      "text/html": [
       "<pre>Training model from provided data.</pre>"
      ],
      "text/plain": [
       "Training model from provided data."
      ]
     },
     "metadata": {},
     "output_type": "display_data"
    },
    {
     "data": {
      "text/html": [
       "<pre>Gathering per-item and per-user statistics.</pre>"
      ],
      "text/plain": [
       "Gathering per-item and per-user statistics."
      ]
     },
     "metadata": {},
     "output_type": "display_data"
    },
    {
     "data": {
      "text/html": [
       "<pre>+--------------------------------+------------+</pre>"
      ],
      "text/plain": [
       "+--------------------------------+------------+"
      ]
     },
     "metadata": {},
     "output_type": "display_data"
    },
    {
     "data": {
      "text/html": [
       "<pre>| Elapsed Time (Item Statistics) | % Complete |</pre>"
      ],
      "text/plain": [
       "| Elapsed Time (Item Statistics) | % Complete |"
      ]
     },
     "metadata": {},
     "output_type": "display_data"
    },
    {
     "data": {
      "text/html": [
       "<pre>+--------------------------------+------------+</pre>"
      ],
      "text/plain": [
       "+--------------------------------+------------+"
      ]
     },
     "metadata": {},
     "output_type": "display_data"
    },
    {
     "data": {
      "text/html": [
       "<pre>| 1.64ms                         | 0.5        |</pre>"
      ],
      "text/plain": [
       "| 1.64ms                         | 0.5        |"
      ]
     },
     "metadata": {},
     "output_type": "display_data"
    },
    {
     "data": {
      "text/html": [
       "<pre>| 130.259ms                      | 100        |</pre>"
      ],
      "text/plain": [
       "| 130.259ms                      | 100        |"
      ]
     },
     "metadata": {},
     "output_type": "display_data"
    },
    {
     "data": {
      "text/html": [
       "<pre>+--------------------------------+------------+</pre>"
      ],
      "text/plain": [
       "+--------------------------------+------------+"
      ]
     },
     "metadata": {},
     "output_type": "display_data"
    },
    {
     "data": {
      "text/html": [
       "<pre>Setting up lookup tables.</pre>"
      ],
      "text/plain": [
       "Setting up lookup tables."
      ]
     },
     "metadata": {},
     "output_type": "display_data"
    },
    {
     "data": {
      "text/html": [
       "<pre>Processing data in one pass using dense lookup tables.</pre>"
      ],
      "text/plain": [
       "Processing data in one pass using dense lookup tables."
      ]
     },
     "metadata": {},
     "output_type": "display_data"
    },
    {
     "data": {
      "text/html": [
       "<pre>+-------------------------------------+------------------+-----------------+</pre>"
      ],
      "text/plain": [
       "+-------------------------------------+------------------+-----------------+"
      ]
     },
     "metadata": {},
     "output_type": "display_data"
    },
    {
     "data": {
      "text/html": [
       "<pre>| Elapsed Time (Constructing Lookups) | Total % Complete | Items Processed |</pre>"
      ],
      "text/plain": [
       "| Elapsed Time (Constructing Lookups) | Total % Complete | Items Processed |"
      ]
     },
     "metadata": {},
     "output_type": "display_data"
    },
    {
     "data": {
      "text/html": [
       "<pre>+-------------------------------------+------------------+-----------------+</pre>"
      ],
      "text/plain": [
       "+-------------------------------------+------------------+-----------------+"
      ]
     },
     "metadata": {},
     "output_type": "display_data"
    },
    {
     "data": {
      "text/html": [
       "<pre>| 1.48s                               | 0                | 0               |</pre>"
      ],
      "text/plain": [
       "| 1.48s                               | 0                | 0               |"
      ]
     },
     "metadata": {},
     "output_type": "display_data"
    },
    {
     "data": {
      "text/html": [
       "<pre>| 4.48s                               | 15.5             | 4153            |</pre>"
      ],
      "text/plain": [
       "| 4.48s                               | 15.5             | 4153            |"
      ]
     },
     "metadata": {},
     "output_type": "display_data"
    },
    {
     "data": {
      "text/html": [
       "<pre>| 7.48s                               | 32.75            | 8764            |</pre>"
      ],
      "text/plain": [
       "| 7.48s                               | 32.75            | 8764            |"
      ]
     },
     "metadata": {},
     "output_type": "display_data"
    },
    {
     "data": {
      "text/html": [
       "<pre>| 10.48s                              | 47.25            | 12623           |</pre>"
      ],
      "text/plain": [
       "| 10.48s                              | 47.25            | 12623           |"
      ]
     },
     "metadata": {},
     "output_type": "display_data"
    },
    {
     "data": {
      "text/html": [
       "<pre>| 13.48s                              | 63.25            | 16905           |</pre>"
      ],
      "text/plain": [
       "| 13.48s                              | 63.25            | 16905           |"
      ]
     },
     "metadata": {},
     "output_type": "display_data"
    },
    {
     "data": {
      "text/html": [
       "<pre>| 16.48s                              | 77.5             | 20692           |</pre>"
      ],
      "text/plain": [
       "| 16.48s                              | 77.5             | 20692           |"
      ]
     },
     "metadata": {},
     "output_type": "display_data"
    },
    {
     "data": {
      "text/html": [
       "<pre>| 19.48s                              | 93               | 24841           |</pre>"
      ],
      "text/plain": [
       "| 19.48s                              | 93               | 24841           |"
      ]
     },
     "metadata": {},
     "output_type": "display_data"
    },
    {
     "data": {
      "text/html": [
       "<pre>| 22.19s                              | 100              | 26657           |</pre>"
      ],
      "text/plain": [
       "| 22.19s                              | 100              | 26657           |"
      ]
     },
     "metadata": {},
     "output_type": "display_data"
    },
    {
     "data": {
      "text/html": [
       "<pre>+-------------------------------------+------------------+-----------------+</pre>"
      ],
      "text/plain": [
       "+-------------------------------------+------------------+-----------------+"
      ]
     },
     "metadata": {},
     "output_type": "display_data"
    },
    {
     "data": {
      "text/html": [
       "<pre>Finalizing lookup tables.</pre>"
      ],
      "text/plain": [
       "Finalizing lookup tables."
      ]
     },
     "metadata": {},
     "output_type": "display_data"
    },
    {
     "data": {
      "text/html": [
       "<pre>Generating candidate set for working with new users.</pre>"
      ],
      "text/plain": [
       "Generating candidate set for working with new users."
      ]
     },
     "metadata": {},
     "output_type": "display_data"
    },
    {
     "data": {
      "text/html": [
       "<pre>Finished training in 22.5162s</pre>"
      ],
      "text/plain": [
       "Finished training in 22.5162s"
      ]
     },
     "metadata": {},
     "output_type": "display_data"
    }
   ],
   "source": [
    "training_data, validation_data = tc.recommender.util.random_split_by_user(actions, 'userId', 'movieId')\n",
    "model = tc.recommender.create(training_data, 'userId', 'movieId')"
   ]
  },
  {
   "cell_type": "code",
   "execution_count": 7,
   "metadata": {},
   "outputs": [
    {
     "data": {
      "text/html": [
       "<pre>recommendations finished on 1000/138493 queries. users per second: 25559.1</pre>"
      ],
      "text/plain": [
       "recommendations finished on 1000/138493 queries. users per second: 25559.1"
      ]
     },
     "metadata": {},
     "output_type": "display_data"
    },
    {
     "data": {
      "text/html": [
       "<pre>recommendations finished on 2000/138493 queries. users per second: 27972.8</pre>"
      ],
      "text/plain": [
       "recommendations finished on 2000/138493 queries. users per second: 27972.8"
      ]
     },
     "metadata": {},
     "output_type": "display_data"
    },
    {
     "data": {
      "text/html": [
       "<pre>recommendations finished on 3000/138493 queries. users per second: 29138.4</pre>"
      ],
      "text/plain": [
       "recommendations finished on 3000/138493 queries. users per second: 29138.4"
      ]
     },
     "metadata": {},
     "output_type": "display_data"
    },
    {
     "data": {
      "text/html": [
       "<pre>recommendations finished on 4000/138493 queries. users per second: 26761.9</pre>"
      ],
      "text/plain": [
       "recommendations finished on 4000/138493 queries. users per second: 26761.9"
      ]
     },
     "metadata": {},
     "output_type": "display_data"
    },
    {
     "data": {
      "text/html": [
       "<pre>recommendations finished on 5000/138493 queries. users per second: 23701.7</pre>"
      ],
      "text/plain": [
       "recommendations finished on 5000/138493 queries. users per second: 23701.7"
      ]
     },
     "metadata": {},
     "output_type": "display_data"
    },
    {
     "data": {
      "text/html": [
       "<pre>recommendations finished on 6000/138493 queries. users per second: 23821.5</pre>"
      ],
      "text/plain": [
       "recommendations finished on 6000/138493 queries. users per second: 23821.5"
      ]
     },
     "metadata": {},
     "output_type": "display_data"
    },
    {
     "data": {
      "text/html": [
       "<pre>recommendations finished on 7000/138493 queries. users per second: 23727</pre>"
      ],
      "text/plain": [
       "recommendations finished on 7000/138493 queries. users per second: 23727"
      ]
     },
     "metadata": {},
     "output_type": "display_data"
    },
    {
     "data": {
      "text/html": [
       "<pre>recommendations finished on 8000/138493 queries. users per second: 23672.1</pre>"
      ],
      "text/plain": [
       "recommendations finished on 8000/138493 queries. users per second: 23672.1"
      ]
     },
     "metadata": {},
     "output_type": "display_data"
    },
    {
     "data": {
      "text/html": [
       "<pre>recommendations finished on 9000/138493 queries. users per second: 24001.6</pre>"
      ],
      "text/plain": [
       "recommendations finished on 9000/138493 queries. users per second: 24001.6"
      ]
     },
     "metadata": {},
     "output_type": "display_data"
    },
    {
     "data": {
      "text/html": [
       "<pre>recommendations finished on 10000/138493 queries. users per second: 24257.7</pre>"
      ],
      "text/plain": [
       "recommendations finished on 10000/138493 queries. users per second: 24257.7"
      ]
     },
     "metadata": {},
     "output_type": "display_data"
    },
    {
     "data": {
      "text/html": [
       "<pre>recommendations finished on 11000/138493 queries. users per second: 24264.6</pre>"
      ],
      "text/plain": [
       "recommendations finished on 11000/138493 queries. users per second: 24264.6"
      ]
     },
     "metadata": {},
     "output_type": "display_data"
    },
    {
     "data": {
      "text/html": [
       "<pre>recommendations finished on 12000/138493 queries. users per second: 24348.8</pre>"
      ],
      "text/plain": [
       "recommendations finished on 12000/138493 queries. users per second: 24348.8"
      ]
     },
     "metadata": {},
     "output_type": "display_data"
    },
    {
     "data": {
      "text/html": [
       "<pre>recommendations finished on 13000/138493 queries. users per second: 24528.4</pre>"
      ],
      "text/plain": [
       "recommendations finished on 13000/138493 queries. users per second: 24528.4"
      ]
     },
     "metadata": {},
     "output_type": "display_data"
    },
    {
     "data": {
      "text/html": [
       "<pre>recommendations finished on 14000/138493 queries. users per second: 24500.3</pre>"
      ],
      "text/plain": [
       "recommendations finished on 14000/138493 queries. users per second: 24500.3"
      ]
     },
     "metadata": {},
     "output_type": "display_data"
    },
    {
     "data": {
      "text/html": [
       "<pre>recommendations finished on 15000/138493 queries. users per second: 24476.9</pre>"
      ],
      "text/plain": [
       "recommendations finished on 15000/138493 queries. users per second: 24476.9"
      ]
     },
     "metadata": {},
     "output_type": "display_data"
    },
    {
     "data": {
      "text/html": [
       "<pre>recommendations finished on 16000/138493 queries. users per second: 24557.1</pre>"
      ],
      "text/plain": [
       "recommendations finished on 16000/138493 queries. users per second: 24557.1"
      ]
     },
     "metadata": {},
     "output_type": "display_data"
    },
    {
     "data": {
      "text/html": [
       "<pre>recommendations finished on 17000/138493 queries. users per second: 24615.5</pre>"
      ],
      "text/plain": [
       "recommendations finished on 17000/138493 queries. users per second: 24615.5"
      ]
     },
     "metadata": {},
     "output_type": "display_data"
    },
    {
     "data": {
      "text/html": [
       "<pre>recommendations finished on 18000/138493 queries. users per second: 24550.9</pre>"
      ],
      "text/plain": [
       "recommendations finished on 18000/138493 queries. users per second: 24550.9"
      ]
     },
     "metadata": {},
     "output_type": "display_data"
    },
    {
     "data": {
      "text/html": [
       "<pre>recommendations finished on 19000/138493 queries. users per second: 24684.5</pre>"
      ],
      "text/plain": [
       "recommendations finished on 19000/138493 queries. users per second: 24684.5"
      ]
     },
     "metadata": {},
     "output_type": "display_data"
    },
    {
     "data": {
      "text/html": [
       "<pre>recommendations finished on 20000/138493 queries. users per second: 24712.7</pre>"
      ],
      "text/plain": [
       "recommendations finished on 20000/138493 queries. users per second: 24712.7"
      ]
     },
     "metadata": {},
     "output_type": "display_data"
    },
    {
     "data": {
      "text/html": [
       "<pre>recommendations finished on 21000/138493 queries. users per second: 24777.5</pre>"
      ],
      "text/plain": [
       "recommendations finished on 21000/138493 queries. users per second: 24777.5"
      ]
     },
     "metadata": {},
     "output_type": "display_data"
    },
    {
     "data": {
      "text/html": [
       "<pre>recommendations finished on 22000/138493 queries. users per second: 24846.3</pre>"
      ],
      "text/plain": [
       "recommendations finished on 22000/138493 queries. users per second: 24846.3"
      ]
     },
     "metadata": {},
     "output_type": "display_data"
    },
    {
     "data": {
      "text/html": [
       "<pre>recommendations finished on 23000/138493 queries. users per second: 25025.9</pre>"
      ],
      "text/plain": [
       "recommendations finished on 23000/138493 queries. users per second: 25025.9"
      ]
     },
     "metadata": {},
     "output_type": "display_data"
    },
    {
     "data": {
      "text/html": [
       "<pre>recommendations finished on 24000/138493 queries. users per second: 25213.7</pre>"
      ],
      "text/plain": [
       "recommendations finished on 24000/138493 queries. users per second: 25213.7"
      ]
     },
     "metadata": {},
     "output_type": "display_data"
    },
    {
     "data": {
      "text/html": [
       "<pre>recommendations finished on 25000/138493 queries. users per second: 25315.4</pre>"
      ],
      "text/plain": [
       "recommendations finished on 25000/138493 queries. users per second: 25315.4"
      ]
     },
     "metadata": {},
     "output_type": "display_data"
    },
    {
     "data": {
      "text/html": [
       "<pre>recommendations finished on 26000/138493 queries. users per second: 25055.8</pre>"
      ],
      "text/plain": [
       "recommendations finished on 26000/138493 queries. users per second: 25055.8"
      ]
     },
     "metadata": {},
     "output_type": "display_data"
    },
    {
     "data": {
      "text/html": [
       "<pre>recommendations finished on 27000/138493 queries. users per second: 24775</pre>"
      ],
      "text/plain": [
       "recommendations finished on 27000/138493 queries. users per second: 24775"
      ]
     },
     "metadata": {},
     "output_type": "display_data"
    },
    {
     "data": {
      "text/html": [
       "<pre>recommendations finished on 28000/138493 queries. users per second: 24566.1</pre>"
      ],
      "text/plain": [
       "recommendations finished on 28000/138493 queries. users per second: 24566.1"
      ]
     },
     "metadata": {},
     "output_type": "display_data"
    },
    {
     "data": {
      "text/html": [
       "<pre>recommendations finished on 29000/138493 queries. users per second: 24503.3</pre>"
      ],
      "text/plain": [
       "recommendations finished on 29000/138493 queries. users per second: 24503.3"
      ]
     },
     "metadata": {},
     "output_type": "display_data"
    },
    {
     "data": {
      "text/html": [
       "<pre>recommendations finished on 30000/138493 queries. users per second: 24462.4</pre>"
      ],
      "text/plain": [
       "recommendations finished on 30000/138493 queries. users per second: 24462.4"
      ]
     },
     "metadata": {},
     "output_type": "display_data"
    },
    {
     "data": {
      "text/html": [
       "<pre>recommendations finished on 31000/138493 queries. users per second: 24330</pre>"
      ],
      "text/plain": [
       "recommendations finished on 31000/138493 queries. users per second: 24330"
      ]
     },
     "metadata": {},
     "output_type": "display_data"
    },
    {
     "data": {
      "text/html": [
       "<pre>recommendations finished on 32000/138493 queries. users per second: 24426.5</pre>"
      ],
      "text/plain": [
       "recommendations finished on 32000/138493 queries. users per second: 24426.5"
      ]
     },
     "metadata": {},
     "output_type": "display_data"
    },
    {
     "data": {
      "text/html": [
       "<pre>recommendations finished on 33000/138493 queries. users per second: 24493.2</pre>"
      ],
      "text/plain": [
       "recommendations finished on 33000/138493 queries. users per second: 24493.2"
      ]
     },
     "metadata": {},
     "output_type": "display_data"
    },
    {
     "data": {
      "text/html": [
       "<pre>recommendations finished on 34000/138493 queries. users per second: 24484.5</pre>"
      ],
      "text/plain": [
       "recommendations finished on 34000/138493 queries. users per second: 24484.5"
      ]
     },
     "metadata": {},
     "output_type": "display_data"
    },
    {
     "data": {
      "text/html": [
       "<pre>recommendations finished on 35000/138493 queries. users per second: 24503.5</pre>"
      ],
      "text/plain": [
       "recommendations finished on 35000/138493 queries. users per second: 24503.5"
      ]
     },
     "metadata": {},
     "output_type": "display_data"
    },
    {
     "data": {
      "text/html": [
       "<pre>recommendations finished on 36000/138493 queries. users per second: 24500.3</pre>"
      ],
      "text/plain": [
       "recommendations finished on 36000/138493 queries. users per second: 24500.3"
      ]
     },
     "metadata": {},
     "output_type": "display_data"
    },
    {
     "data": {
      "text/html": [
       "<pre>recommendations finished on 37000/138493 queries. users per second: 24473.6</pre>"
      ],
      "text/plain": [
       "recommendations finished on 37000/138493 queries. users per second: 24473.6"
      ]
     },
     "metadata": {},
     "output_type": "display_data"
    },
    {
     "data": {
      "text/html": [
       "<pre>recommendations finished on 38000/138493 queries. users per second: 24507.6</pre>"
      ],
      "text/plain": [
       "recommendations finished on 38000/138493 queries. users per second: 24507.6"
      ]
     },
     "metadata": {},
     "output_type": "display_data"
    },
    {
     "data": {
      "text/html": [
       "<pre>recommendations finished on 39000/138493 queries. users per second: 24502.9</pre>"
      ],
      "text/plain": [
       "recommendations finished on 39000/138493 queries. users per second: 24502.9"
      ]
     },
     "metadata": {},
     "output_type": "display_data"
    },
    {
     "data": {
      "text/html": [
       "<pre>recommendations finished on 40000/138493 queries. users per second: 24463.4</pre>"
      ],
      "text/plain": [
       "recommendations finished on 40000/138493 queries. users per second: 24463.4"
      ]
     },
     "metadata": {},
     "output_type": "display_data"
    },
    {
     "data": {
      "text/html": [
       "<pre>recommendations finished on 41000/138493 queries. users per second: 24497.3</pre>"
      ],
      "text/plain": [
       "recommendations finished on 41000/138493 queries. users per second: 24497.3"
      ]
     },
     "metadata": {},
     "output_type": "display_data"
    },
    {
     "data": {
      "text/html": [
       "<pre>recommendations finished on 42000/138493 queries. users per second: 24613</pre>"
      ],
      "text/plain": [
       "recommendations finished on 42000/138493 queries. users per second: 24613"
      ]
     },
     "metadata": {},
     "output_type": "display_data"
    },
    {
     "data": {
      "text/html": [
       "<pre>recommendations finished on 43000/138493 queries. users per second: 24556</pre>"
      ],
      "text/plain": [
       "recommendations finished on 43000/138493 queries. users per second: 24556"
      ]
     },
     "metadata": {},
     "output_type": "display_data"
    },
    {
     "data": {
      "text/html": [
       "<pre>recommendations finished on 44000/138493 queries. users per second: 24524.1</pre>"
      ],
      "text/plain": [
       "recommendations finished on 44000/138493 queries. users per second: 24524.1"
      ]
     },
     "metadata": {},
     "output_type": "display_data"
    },
    {
     "data": {
      "text/html": [
       "<pre>recommendations finished on 45000/138493 queries. users per second: 24480.6</pre>"
      ],
      "text/plain": [
       "recommendations finished on 45000/138493 queries. users per second: 24480.6"
      ]
     },
     "metadata": {},
     "output_type": "display_data"
    },
    {
     "data": {
      "text/html": [
       "<pre>recommendations finished on 46000/138493 queries. users per second: 24501.2</pre>"
      ],
      "text/plain": [
       "recommendations finished on 46000/138493 queries. users per second: 24501.2"
      ]
     },
     "metadata": {},
     "output_type": "display_data"
    },
    {
     "data": {
      "text/html": [
       "<pre>recommendations finished on 47000/138493 queries. users per second: 24508.8</pre>"
      ],
      "text/plain": [
       "recommendations finished on 47000/138493 queries. users per second: 24508.8"
      ]
     },
     "metadata": {},
     "output_type": "display_data"
    },
    {
     "data": {
      "text/html": [
       "<pre>recommendations finished on 48000/138493 queries. users per second: 24486.6</pre>"
      ],
      "text/plain": [
       "recommendations finished on 48000/138493 queries. users per second: 24486.6"
      ]
     },
     "metadata": {},
     "output_type": "display_data"
    },
    {
     "data": {
      "text/html": [
       "<pre>recommendations finished on 49000/138493 queries. users per second: 24489.5</pre>"
      ],
      "text/plain": [
       "recommendations finished on 49000/138493 queries. users per second: 24489.5"
      ]
     },
     "metadata": {},
     "output_type": "display_data"
    },
    {
     "data": {
      "text/html": [
       "<pre>recommendations finished on 50000/138493 queries. users per second: 24561.9</pre>"
      ],
      "text/plain": [
       "recommendations finished on 50000/138493 queries. users per second: 24561.9"
      ]
     },
     "metadata": {},
     "output_type": "display_data"
    },
    {
     "data": {
      "text/html": [
       "<pre>recommendations finished on 51000/138493 queries. users per second: 24617.5</pre>"
      ],
      "text/plain": [
       "recommendations finished on 51000/138493 queries. users per second: 24617.5"
      ]
     },
     "metadata": {},
     "output_type": "display_data"
    },
    {
     "data": {
      "text/html": [
       "<pre>recommendations finished on 52000/138493 queries. users per second: 24634.9</pre>"
      ],
      "text/plain": [
       "recommendations finished on 52000/138493 queries. users per second: 24634.9"
      ]
     },
     "metadata": {},
     "output_type": "display_data"
    },
    {
     "data": {
      "text/html": [
       "<pre>recommendations finished on 53000/138493 queries. users per second: 24643.3</pre>"
      ],
      "text/plain": [
       "recommendations finished on 53000/138493 queries. users per second: 24643.3"
      ]
     },
     "metadata": {},
     "output_type": "display_data"
    },
    {
     "data": {
      "text/html": [
       "<pre>recommendations finished on 54000/138493 queries. users per second: 24575.6</pre>"
      ],
      "text/plain": [
       "recommendations finished on 54000/138493 queries. users per second: 24575.6"
      ]
     },
     "metadata": {},
     "output_type": "display_data"
    },
    {
     "data": {
      "text/html": [
       "<pre>recommendations finished on 55000/138493 queries. users per second: 24525.9</pre>"
      ],
      "text/plain": [
       "recommendations finished on 55000/138493 queries. users per second: 24525.9"
      ]
     },
     "metadata": {},
     "output_type": "display_data"
    },
    {
     "data": {
      "text/html": [
       "<pre>recommendations finished on 56000/138493 queries. users per second: 24498.5</pre>"
      ],
      "text/plain": [
       "recommendations finished on 56000/138493 queries. users per second: 24498.5"
      ]
     },
     "metadata": {},
     "output_type": "display_data"
    },
    {
     "data": {
      "text/html": [
       "<pre>recommendations finished on 57000/138493 queries. users per second: 24499.4</pre>"
      ],
      "text/plain": [
       "recommendations finished on 57000/138493 queries. users per second: 24499.4"
      ]
     },
     "metadata": {},
     "output_type": "display_data"
    },
    {
     "data": {
      "text/html": [
       "<pre>recommendations finished on 58000/138493 queries. users per second: 24551.1</pre>"
      ],
      "text/plain": [
       "recommendations finished on 58000/138493 queries. users per second: 24551.1"
      ]
     },
     "metadata": {},
     "output_type": "display_data"
    },
    {
     "data": {
      "text/html": [
       "<pre>recommendations finished on 59000/138493 queries. users per second: 24587.9</pre>"
      ],
      "text/plain": [
       "recommendations finished on 59000/138493 queries. users per second: 24587.9"
      ]
     },
     "metadata": {},
     "output_type": "display_data"
    },
    {
     "data": {
      "text/html": [
       "<pre>recommendations finished on 60000/138493 queries. users per second: 24647.6</pre>"
      ],
      "text/plain": [
       "recommendations finished on 60000/138493 queries. users per second: 24647.6"
      ]
     },
     "metadata": {},
     "output_type": "display_data"
    },
    {
     "data": {
      "text/html": [
       "<pre>recommendations finished on 61000/138493 queries. users per second: 24698.3</pre>"
      ],
      "text/plain": [
       "recommendations finished on 61000/138493 queries. users per second: 24698.3"
      ]
     },
     "metadata": {},
     "output_type": "display_data"
    },
    {
     "data": {
      "text/html": [
       "<pre>recommendations finished on 62000/138493 queries. users per second: 24755.5</pre>"
      ],
      "text/plain": [
       "recommendations finished on 62000/138493 queries. users per second: 24755.5"
      ]
     },
     "metadata": {},
     "output_type": "display_data"
    },
    {
     "data": {
      "text/html": [
       "<pre>recommendations finished on 63000/138493 queries. users per second: 24801.5</pre>"
      ],
      "text/plain": [
       "recommendations finished on 63000/138493 queries. users per second: 24801.5"
      ]
     },
     "metadata": {},
     "output_type": "display_data"
    },
    {
     "data": {
      "text/html": [
       "<pre>recommendations finished on 64000/138493 queries. users per second: 24841.6</pre>"
      ],
      "text/plain": [
       "recommendations finished on 64000/138493 queries. users per second: 24841.6"
      ]
     },
     "metadata": {},
     "output_type": "display_data"
    },
    {
     "data": {
      "text/html": [
       "<pre>recommendations finished on 65000/138493 queries. users per second: 24878.1</pre>"
      ],
      "text/plain": [
       "recommendations finished on 65000/138493 queries. users per second: 24878.1"
      ]
     },
     "metadata": {},
     "output_type": "display_data"
    },
    {
     "data": {
      "text/html": [
       "<pre>recommendations finished on 66000/138493 queries. users per second: 24905.6</pre>"
      ],
      "text/plain": [
       "recommendations finished on 66000/138493 queries. users per second: 24905.6"
      ]
     },
     "metadata": {},
     "output_type": "display_data"
    },
    {
     "data": {
      "text/html": [
       "<pre>recommendations finished on 67000/138493 queries. users per second: 24942.6</pre>"
      ],
      "text/plain": [
       "recommendations finished on 67000/138493 queries. users per second: 24942.6"
      ]
     },
     "metadata": {},
     "output_type": "display_data"
    },
    {
     "data": {
      "text/html": [
       "<pre>recommendations finished on 68000/138493 queries. users per second: 24973.8</pre>"
      ],
      "text/plain": [
       "recommendations finished on 68000/138493 queries. users per second: 24973.8"
      ]
     },
     "metadata": {},
     "output_type": "display_data"
    },
    {
     "data": {
      "text/html": [
       "<pre>recommendations finished on 69000/138493 queries. users per second: 25015.3</pre>"
      ],
      "text/plain": [
       "recommendations finished on 69000/138493 queries. users per second: 25015.3"
      ]
     },
     "metadata": {},
     "output_type": "display_data"
    },
    {
     "data": {
      "text/html": [
       "<pre>recommendations finished on 70000/138493 queries. users per second: 25059.5</pre>"
      ],
      "text/plain": [
       "recommendations finished on 70000/138493 queries. users per second: 25059.5"
      ]
     },
     "metadata": {},
     "output_type": "display_data"
    },
    {
     "data": {
      "text/html": [
       "<pre>recommendations finished on 71000/138493 queries. users per second: 25077.1</pre>"
      ],
      "text/plain": [
       "recommendations finished on 71000/138493 queries. users per second: 25077.1"
      ]
     },
     "metadata": {},
     "output_type": "display_data"
    },
    {
     "data": {
      "text/html": [
       "<pre>recommendations finished on 72000/138493 queries. users per second: 25114.4</pre>"
      ],
      "text/plain": [
       "recommendations finished on 72000/138493 queries. users per second: 25114.4"
      ]
     },
     "metadata": {},
     "output_type": "display_data"
    },
    {
     "data": {
      "text/html": [
       "<pre>recommendations finished on 73000/138493 queries. users per second: 25147.1</pre>"
      ],
      "text/plain": [
       "recommendations finished on 73000/138493 queries. users per second: 25147.1"
      ]
     },
     "metadata": {},
     "output_type": "display_data"
    },
    {
     "data": {
      "text/html": [
       "<pre>recommendations finished on 74000/138493 queries. users per second: 25189.6</pre>"
      ],
      "text/plain": [
       "recommendations finished on 74000/138493 queries. users per second: 25189.6"
      ]
     },
     "metadata": {},
     "output_type": "display_data"
    },
    {
     "data": {
      "text/html": [
       "<pre>recommendations finished on 75000/138493 queries. users per second: 25217.9</pre>"
      ],
      "text/plain": [
       "recommendations finished on 75000/138493 queries. users per second: 25217.9"
      ]
     },
     "metadata": {},
     "output_type": "display_data"
    },
    {
     "data": {
      "text/html": [
       "<pre>recommendations finished on 76000/138493 queries. users per second: 25250</pre>"
      ],
      "text/plain": [
       "recommendations finished on 76000/138493 queries. users per second: 25250"
      ]
     },
     "metadata": {},
     "output_type": "display_data"
    },
    {
     "data": {
      "text/html": [
       "<pre>recommendations finished on 77000/138493 queries. users per second: 25291.8</pre>"
      ],
      "text/plain": [
       "recommendations finished on 77000/138493 queries. users per second: 25291.8"
      ]
     },
     "metadata": {},
     "output_type": "display_data"
    },
    {
     "data": {
      "text/html": [
       "<pre>recommendations finished on 78000/138493 queries. users per second: 25320.4</pre>"
      ],
      "text/plain": [
       "recommendations finished on 78000/138493 queries. users per second: 25320.4"
      ]
     },
     "metadata": {},
     "output_type": "display_data"
    },
    {
     "data": {
      "text/html": [
       "<pre>recommendations finished on 79000/138493 queries. users per second: 25346.9</pre>"
      ],
      "text/plain": [
       "recommendations finished on 79000/138493 queries. users per second: 25346.9"
      ]
     },
     "metadata": {},
     "output_type": "display_data"
    },
    {
     "data": {
      "text/html": [
       "<pre>recommendations finished on 80000/138493 queries. users per second: 25350.4</pre>"
      ],
      "text/plain": [
       "recommendations finished on 80000/138493 queries. users per second: 25350.4"
      ]
     },
     "metadata": {},
     "output_type": "display_data"
    },
    {
     "data": {
      "text/html": [
       "<pre>recommendations finished on 81000/138493 queries. users per second: 25371.8</pre>"
      ],
      "text/plain": [
       "recommendations finished on 81000/138493 queries. users per second: 25371.8"
      ]
     },
     "metadata": {},
     "output_type": "display_data"
    },
    {
     "data": {
      "text/html": [
       "<pre>recommendations finished on 82000/138493 queries. users per second: 25389.7</pre>"
      ],
      "text/plain": [
       "recommendations finished on 82000/138493 queries. users per second: 25389.7"
      ]
     },
     "metadata": {},
     "output_type": "display_data"
    },
    {
     "data": {
      "text/html": [
       "<pre>recommendations finished on 83000/138493 queries. users per second: 25394.1</pre>"
      ],
      "text/plain": [
       "recommendations finished on 83000/138493 queries. users per second: 25394.1"
      ]
     },
     "metadata": {},
     "output_type": "display_data"
    },
    {
     "data": {
      "text/html": [
       "<pre>recommendations finished on 84000/138493 queries. users per second: 25399.7</pre>"
      ],
      "text/plain": [
       "recommendations finished on 84000/138493 queries. users per second: 25399.7"
      ]
     },
     "metadata": {},
     "output_type": "display_data"
    },
    {
     "data": {
      "text/html": [
       "<pre>recommendations finished on 85000/138493 queries. users per second: 25386.9</pre>"
      ],
      "text/plain": [
       "recommendations finished on 85000/138493 queries. users per second: 25386.9"
      ]
     },
     "metadata": {},
     "output_type": "display_data"
    },
    {
     "data": {
      "text/html": [
       "<pre>recommendations finished on 86000/138493 queries. users per second: 25369</pre>"
      ],
      "text/plain": [
       "recommendations finished on 86000/138493 queries. users per second: 25369"
      ]
     },
     "metadata": {},
     "output_type": "display_data"
    },
    {
     "data": {
      "text/html": [
       "<pre>recommendations finished on 87000/138493 queries. users per second: 25373.7</pre>"
      ],
      "text/plain": [
       "recommendations finished on 87000/138493 queries. users per second: 25373.7"
      ]
     },
     "metadata": {},
     "output_type": "display_data"
    },
    {
     "data": {
      "text/html": [
       "<pre>recommendations finished on 88000/138493 queries. users per second: 25389.5</pre>"
      ],
      "text/plain": [
       "recommendations finished on 88000/138493 queries. users per second: 25389.5"
      ]
     },
     "metadata": {},
     "output_type": "display_data"
    },
    {
     "data": {
      "text/html": [
       "<pre>recommendations finished on 89000/138493 queries. users per second: 25381.6</pre>"
      ],
      "text/plain": [
       "recommendations finished on 89000/138493 queries. users per second: 25381.6"
      ]
     },
     "metadata": {},
     "output_type": "display_data"
    },
    {
     "data": {
      "text/html": [
       "<pre>recommendations finished on 90000/138493 queries. users per second: 25403.3</pre>"
      ],
      "text/plain": [
       "recommendations finished on 90000/138493 queries. users per second: 25403.3"
      ]
     },
     "metadata": {},
     "output_type": "display_data"
    },
    {
     "data": {
      "text/html": [
       "<pre>recommendations finished on 91000/138493 queries. users per second: 25421.9</pre>"
      ],
      "text/plain": [
       "recommendations finished on 91000/138493 queries. users per second: 25421.9"
      ]
     },
     "metadata": {},
     "output_type": "display_data"
    },
    {
     "data": {
      "text/html": [
       "<pre>recommendations finished on 92000/138493 queries. users per second: 25445.6</pre>"
      ],
      "text/plain": [
       "recommendations finished on 92000/138493 queries. users per second: 25445.6"
      ]
     },
     "metadata": {},
     "output_type": "display_data"
    },
    {
     "data": {
      "text/html": [
       "<pre>recommendations finished on 93000/138493 queries. users per second: 25452.1</pre>"
      ],
      "text/plain": [
       "recommendations finished on 93000/138493 queries. users per second: 25452.1"
      ]
     },
     "metadata": {},
     "output_type": "display_data"
    },
    {
     "data": {
      "text/html": [
       "<pre>recommendations finished on 94000/138493 queries. users per second: 25452.6</pre>"
      ],
      "text/plain": [
       "recommendations finished on 94000/138493 queries. users per second: 25452.6"
      ]
     },
     "metadata": {},
     "output_type": "display_data"
    },
    {
     "data": {
      "text/html": [
       "<pre>recommendations finished on 95000/138493 queries. users per second: 25457.4</pre>"
      ],
      "text/plain": [
       "recommendations finished on 95000/138493 queries. users per second: 25457.4"
      ]
     },
     "metadata": {},
     "output_type": "display_data"
    },
    {
     "data": {
      "text/html": [
       "<pre>recommendations finished on 96000/138493 queries. users per second: 25481.3</pre>"
      ],
      "text/plain": [
       "recommendations finished on 96000/138493 queries. users per second: 25481.3"
      ]
     },
     "metadata": {},
     "output_type": "display_data"
    },
    {
     "data": {
      "text/html": [
       "<pre>recommendations finished on 97000/138493 queries. users per second: 25505.1</pre>"
      ],
      "text/plain": [
       "recommendations finished on 97000/138493 queries. users per second: 25505.1"
      ]
     },
     "metadata": {},
     "output_type": "display_data"
    },
    {
     "data": {
      "text/html": [
       "<pre>recommendations finished on 98000/138493 queries. users per second: 25532</pre>"
      ],
      "text/plain": [
       "recommendations finished on 98000/138493 queries. users per second: 25532"
      ]
     },
     "metadata": {},
     "output_type": "display_data"
    },
    {
     "data": {
      "text/html": [
       "<pre>recommendations finished on 99000/138493 queries. users per second: 25541.5</pre>"
      ],
      "text/plain": [
       "recommendations finished on 99000/138493 queries. users per second: 25541.5"
      ]
     },
     "metadata": {},
     "output_type": "display_data"
    },
    {
     "data": {
      "text/html": [
       "<pre>recommendations finished on 100000/138493 queries. users per second: 25276.5</pre>"
      ],
      "text/plain": [
       "recommendations finished on 100000/138493 queries. users per second: 25276.5"
      ]
     },
     "metadata": {},
     "output_type": "display_data"
    },
    {
     "data": {
      "text/html": [
       "<pre>recommendations finished on 101000/138493 queries. users per second: 25253.5</pre>"
      ],
      "text/plain": [
       "recommendations finished on 101000/138493 queries. users per second: 25253.5"
      ]
     },
     "metadata": {},
     "output_type": "display_data"
    },
    {
     "data": {
      "text/html": [
       "<pre>recommendations finished on 102000/138493 queries. users per second: 24955.1</pre>"
      ],
      "text/plain": [
       "recommendations finished on 102000/138493 queries. users per second: 24955.1"
      ]
     },
     "metadata": {},
     "output_type": "display_data"
    },
    {
     "data": {
      "text/html": [
       "<pre>recommendations finished on 103000/138493 queries. users per second: 24946.6</pre>"
      ],
      "text/plain": [
       "recommendations finished on 103000/138493 queries. users per second: 24946.6"
      ]
     },
     "metadata": {},
     "output_type": "display_data"
    },
    {
     "data": {
      "text/html": [
       "<pre>recommendations finished on 104000/138493 queries. users per second: 24854.8</pre>"
      ],
      "text/plain": [
       "recommendations finished on 104000/138493 queries. users per second: 24854.8"
      ]
     },
     "metadata": {},
     "output_type": "display_data"
    },
    {
     "data": {
      "text/html": [
       "<pre>recommendations finished on 105000/138493 queries. users per second: 24852.3</pre>"
      ],
      "text/plain": [
       "recommendations finished on 105000/138493 queries. users per second: 24852.3"
      ]
     },
     "metadata": {},
     "output_type": "display_data"
    },
    {
     "data": {
      "text/html": [
       "<pre>recommendations finished on 106000/138493 queries. users per second: 24842.6</pre>"
      ],
      "text/plain": [
       "recommendations finished on 106000/138493 queries. users per second: 24842.6"
      ]
     },
     "metadata": {},
     "output_type": "display_data"
    },
    {
     "data": {
      "text/html": [
       "<pre>recommendations finished on 107000/138493 queries. users per second: 24850.5</pre>"
      ],
      "text/plain": [
       "recommendations finished on 107000/138493 queries. users per second: 24850.5"
      ]
     },
     "metadata": {},
     "output_type": "display_data"
    },
    {
     "data": {
      "text/html": [
       "<pre>recommendations finished on 108000/138493 queries. users per second: 24845.4</pre>"
      ],
      "text/plain": [
       "recommendations finished on 108000/138493 queries. users per second: 24845.4"
      ]
     },
     "metadata": {},
     "output_type": "display_data"
    },
    {
     "data": {
      "text/html": [
       "<pre>recommendations finished on 109000/138493 queries. users per second: 24848.2</pre>"
      ],
      "text/plain": [
       "recommendations finished on 109000/138493 queries. users per second: 24848.2"
      ]
     },
     "metadata": {},
     "output_type": "display_data"
    },
    {
     "data": {
      "text/html": [
       "<pre>recommendations finished on 110000/138493 queries. users per second: 24847.5</pre>"
      ],
      "text/plain": [
       "recommendations finished on 110000/138493 queries. users per second: 24847.5"
      ]
     },
     "metadata": {},
     "output_type": "display_data"
    },
    {
     "data": {
      "text/html": [
       "<pre>recommendations finished on 111000/138493 queries. users per second: 24863.4</pre>"
      ],
      "text/plain": [
       "recommendations finished on 111000/138493 queries. users per second: 24863.4"
      ]
     },
     "metadata": {},
     "output_type": "display_data"
    },
    {
     "data": {
      "text/html": [
       "<pre>recommendations finished on 112000/138493 queries. users per second: 24871.9</pre>"
      ],
      "text/plain": [
       "recommendations finished on 112000/138493 queries. users per second: 24871.9"
      ]
     },
     "metadata": {},
     "output_type": "display_data"
    },
    {
     "data": {
      "text/html": [
       "<pre>recommendations finished on 113000/138493 queries. users per second: 24876.3</pre>"
      ],
      "text/plain": [
       "recommendations finished on 113000/138493 queries. users per second: 24876.3"
      ]
     },
     "metadata": {},
     "output_type": "display_data"
    },
    {
     "data": {
      "text/html": [
       "<pre>recommendations finished on 114000/138493 queries. users per second: 24888.1</pre>"
      ],
      "text/plain": [
       "recommendations finished on 114000/138493 queries. users per second: 24888.1"
      ]
     },
     "metadata": {},
     "output_type": "display_data"
    },
    {
     "data": {
      "text/html": [
       "<pre>recommendations finished on 115000/138493 queries. users per second: 24903.9</pre>"
      ],
      "text/plain": [
       "recommendations finished on 115000/138493 queries. users per second: 24903.9"
      ]
     },
     "metadata": {},
     "output_type": "display_data"
    },
    {
     "data": {
      "text/html": [
       "<pre>recommendations finished on 116000/138493 queries. users per second: 24911.6</pre>"
      ],
      "text/plain": [
       "recommendations finished on 116000/138493 queries. users per second: 24911.6"
      ]
     },
     "metadata": {},
     "output_type": "display_data"
    },
    {
     "data": {
      "text/html": [
       "<pre>recommendations finished on 117000/138493 queries. users per second: 24924.8</pre>"
      ],
      "text/plain": [
       "recommendations finished on 117000/138493 queries. users per second: 24924.8"
      ]
     },
     "metadata": {},
     "output_type": "display_data"
    },
    {
     "data": {
      "text/html": [
       "<pre>recommendations finished on 118000/138493 queries. users per second: 24935.6</pre>"
      ],
      "text/plain": [
       "recommendations finished on 118000/138493 queries. users per second: 24935.6"
      ]
     },
     "metadata": {},
     "output_type": "display_data"
    },
    {
     "data": {
      "text/html": [
       "<pre>recommendations finished on 119000/138493 queries. users per second: 24954.1</pre>"
      ],
      "text/plain": [
       "recommendations finished on 119000/138493 queries. users per second: 24954.1"
      ]
     },
     "metadata": {},
     "output_type": "display_data"
    },
    {
     "data": {
      "text/html": [
       "<pre>recommendations finished on 120000/138493 queries. users per second: 24975</pre>"
      ],
      "text/plain": [
       "recommendations finished on 120000/138493 queries. users per second: 24975"
      ]
     },
     "metadata": {},
     "output_type": "display_data"
    },
    {
     "data": {
      "text/html": [
       "<pre>recommendations finished on 121000/138493 queries. users per second: 24993.7</pre>"
      ],
      "text/plain": [
       "recommendations finished on 121000/138493 queries. users per second: 24993.7"
      ]
     },
     "metadata": {},
     "output_type": "display_data"
    },
    {
     "data": {
      "text/html": [
       "<pre>recommendations finished on 122000/138493 queries. users per second: 25006</pre>"
      ],
      "text/plain": [
       "recommendations finished on 122000/138493 queries. users per second: 25006"
      ]
     },
     "metadata": {},
     "output_type": "display_data"
    },
    {
     "data": {
      "text/html": [
       "<pre>recommendations finished on 123000/138493 queries. users per second: 25012.5</pre>"
      ],
      "text/plain": [
       "recommendations finished on 123000/138493 queries. users per second: 25012.5"
      ]
     },
     "metadata": {},
     "output_type": "display_data"
    },
    {
     "data": {
      "text/html": [
       "<pre>recommendations finished on 124000/138493 queries. users per second: 25014.8</pre>"
      ],
      "text/plain": [
       "recommendations finished on 124000/138493 queries. users per second: 25014.8"
      ]
     },
     "metadata": {},
     "output_type": "display_data"
    },
    {
     "data": {
      "text/html": [
       "<pre>recommendations finished on 125000/138493 queries. users per second: 25009.9</pre>"
      ],
      "text/plain": [
       "recommendations finished on 125000/138493 queries. users per second: 25009.9"
      ]
     },
     "metadata": {},
     "output_type": "display_data"
    },
    {
     "data": {
      "text/html": [
       "<pre>recommendations finished on 126000/138493 queries. users per second: 25004.8</pre>"
      ],
      "text/plain": [
       "recommendations finished on 126000/138493 queries. users per second: 25004.8"
      ]
     },
     "metadata": {},
     "output_type": "display_data"
    },
    {
     "data": {
      "text/html": [
       "<pre>recommendations finished on 127000/138493 queries. users per second: 25004.8</pre>"
      ],
      "text/plain": [
       "recommendations finished on 127000/138493 queries. users per second: 25004.8"
      ]
     },
     "metadata": {},
     "output_type": "display_data"
    },
    {
     "data": {
      "text/html": [
       "<pre>recommendations finished on 128000/138493 queries. users per second: 25004.6</pre>"
      ],
      "text/plain": [
       "recommendations finished on 128000/138493 queries. users per second: 25004.6"
      ]
     },
     "metadata": {},
     "output_type": "display_data"
    },
    {
     "data": {
      "text/html": [
       "<pre>recommendations finished on 129000/138493 queries. users per second: 24988.7</pre>"
      ],
      "text/plain": [
       "recommendations finished on 129000/138493 queries. users per second: 24988.7"
      ]
     },
     "metadata": {},
     "output_type": "display_data"
    },
    {
     "data": {
      "text/html": [
       "<pre>recommendations finished on 130000/138493 queries. users per second: 24972.6</pre>"
      ],
      "text/plain": [
       "recommendations finished on 130000/138493 queries. users per second: 24972.6"
      ]
     },
     "metadata": {},
     "output_type": "display_data"
    },
    {
     "data": {
      "text/html": [
       "<pre>recommendations finished on 131000/138493 queries. users per second: 24952.7</pre>"
      ],
      "text/plain": [
       "recommendations finished on 131000/138493 queries. users per second: 24952.7"
      ]
     },
     "metadata": {},
     "output_type": "display_data"
    },
    {
     "data": {
      "text/html": [
       "<pre>recommendations finished on 132000/138493 queries. users per second: 24937.3</pre>"
      ],
      "text/plain": [
       "recommendations finished on 132000/138493 queries. users per second: 24937.3"
      ]
     },
     "metadata": {},
     "output_type": "display_data"
    },
    {
     "data": {
      "text/html": [
       "<pre>recommendations finished on 133000/138493 queries. users per second: 24923.2</pre>"
      ],
      "text/plain": [
       "recommendations finished on 133000/138493 queries. users per second: 24923.2"
      ]
     },
     "metadata": {},
     "output_type": "display_data"
    },
    {
     "data": {
      "text/html": [
       "<pre>recommendations finished on 134000/138493 queries. users per second: 24904.3</pre>"
      ],
      "text/plain": [
       "recommendations finished on 134000/138493 queries. users per second: 24904.3"
      ]
     },
     "metadata": {},
     "output_type": "display_data"
    },
    {
     "data": {
      "text/html": [
       "<pre>recommendations finished on 135000/138493 queries. users per second: 24916.3</pre>"
      ],
      "text/plain": [
       "recommendations finished on 135000/138493 queries. users per second: 24916.3"
      ]
     },
     "metadata": {},
     "output_type": "display_data"
    },
    {
     "data": {
      "text/html": [
       "<pre>recommendations finished on 136000/138493 queries. users per second: 24929.1</pre>"
      ],
      "text/plain": [
       "recommendations finished on 136000/138493 queries. users per second: 24929.1"
      ]
     },
     "metadata": {},
     "output_type": "display_data"
    },
    {
     "data": {
      "text/html": [
       "<pre>recommendations finished on 137000/138493 queries. users per second: 24926.7</pre>"
      ],
      "text/plain": [
       "recommendations finished on 137000/138493 queries. users per second: 24926.7"
      ]
     },
     "metadata": {},
     "output_type": "display_data"
    },
    {
     "data": {
      "text/html": [
       "<pre>recommendations finished on 138000/138493 queries. users per second: 24912.6</pre>"
      ],
      "text/plain": [
       "recommendations finished on 138000/138493 queries. users per second: 24912.6"
      ]
     },
     "metadata": {},
     "output_type": "display_data"
    }
   ],
   "source": [
    "results = model.recommend()"
   ]
  },
  {
   "cell_type": "code",
   "execution_count": null,
   "metadata": {},
   "outputs": [],
   "source": []
  }
 ],
 "metadata": {
  "kernelspec": {
   "display_name": "Python 3",
   "language": "python",
   "name": "python3"
  },
  "language_info": {
   "codemirror_mode": {
    "name": "ipython",
    "version": 3
   },
   "file_extension": ".py",
   "mimetype": "text/x-python",
   "name": "python",
   "nbconvert_exporter": "python",
   "pygments_lexer": "ipython3",
   "version": "3.7.8"
  }
 },
 "nbformat": 4,
 "nbformat_minor": 4
}
